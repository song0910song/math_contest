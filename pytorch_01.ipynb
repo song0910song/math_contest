{
 "cells": [
  {
   "cell_type": "markdown",
   "id": "a3b50a53",
   "metadata": {},
   "source": [
    "# PyTorch基本操作"
   ]
  },
  {
   "cell_type": "code",
   "execution_count": 1,
   "id": "1fa1b7b0",
   "metadata": {},
   "outputs": [],
   "source": [
    "import torch"
   ]
  },
  {
   "cell_type": "markdown",
   "id": "2654147e",
   "metadata": {},
   "source": [
    "创建一个2x4的二维张量"
   ]
  },
  {
   "cell_type": "code",
   "execution_count": 3,
   "id": "7cc3fba6",
   "metadata": {},
   "outputs": [],
   "source": [
    "x = torch.Tensor(2, 4)"
   ]
  },
  {
   "cell_type": "code",
   "execution_count": 4,
   "id": "b1ff12a2",
   "metadata": {},
   "outputs": [
    {
     "name": "stdout",
     "output_type": "stream",
     "text": [
      "torch.FloatTensor\n",
      "torch.float32\n"
     ]
    }
   ],
   "source": [
    "print(x.type())\n",
    "print(x.dtype)"
   ]
  },
  {
   "cell_type": "markdown",
   "id": "099f4fc3",
   "metadata": {},
   "source": [
    "创建全为0的张量"
   ]
  },
  {
   "cell_type": "code",
   "execution_count": 11,
   "id": "f7e61dd9",
   "metadata": {},
   "outputs": [
    {
     "data": {
      "text/plain": [
       "tensor([[[0., 0.],\n",
       "         [0., 0.],\n",
       "         [0., 0.]],\n",
       "\n",
       "        [[0., 0.],\n",
       "         [0., 0.],\n",
       "         [0., 0.]],\n",
       "\n",
       "        [[0., 0.],\n",
       "         [0., 0.],\n",
       "         [0., 0.]]])"
      ]
     },
     "execution_count": 11,
     "metadata": {},
     "output_type": "execute_result"
    }
   ],
   "source": [
    "torch.zeros(3, 3, 2)"
   ]
  },
  {
   "cell_type": "markdown",
   "id": "7a0a634c",
   "metadata": {},
   "source": [
    "创建对角线全为1的张量"
   ]
  },
  {
   "cell_type": "code",
   "execution_count": null,
   "id": "85966a30",
   "metadata": {},
   "outputs": [
    {
     "data": {
      "text/plain": [
       "tensor([[1., 0., 0., 0.],\n",
       "        [0., 1., 0., 0.]])"
      ]
     },
     "execution_count": 10,
     "metadata": {},
     "output_type": "execute_result"
    }
   ],
   "source": [
    "torch.eye(2,4)"
   ]
  },
  {
   "cell_type": "markdown",
   "id": "80d38eef",
   "metadata": {},
   "source": [
    "随机创建Tensor在区间(0, 1]"
   ]
  },
  {
   "cell_type": "code",
   "execution_count": null,
   "id": "89192af5",
   "metadata": {},
   "outputs": [
    {
     "data": {
      "text/plain": [
       "tensor([[[0.6119, 0.1872],\n",
       "         [0.2839, 0.0886],\n",
       "         [0.7623, 0.9628],\n",
       "         [0.5403, 0.6773]],\n",
       "\n",
       "        [[0.0132, 0.9709],\n",
       "         [0.3423, 0.7638],\n",
       "         [0.8280, 0.9459],\n",
       "         [0.6073, 0.7468]],\n",
       "\n",
       "        [[0.2180, 0.3269],\n",
       "         [0.6787, 0.2352],\n",
       "         [0.3193, 0.2941],\n",
       "         [0.3633, 0.0231]]])"
      ]
     },
     "execution_count": 13,
     "metadata": {},
     "output_type": "execute_result"
    }
   ],
   "source": [
    "torch.rand(3, 4, 2)"
   ]
  },
  {
   "cell_type": "markdown",
   "id": "cd1f4b36",
   "metadata": {},
   "source": [
    "创建等间隔的1维张量"
   ]
  },
  {
   "cell_type": "code",
   "execution_count": null,
   "id": "f5c01ebf",
   "metadata": {},
   "outputs": [
    {
     "data": {
      "text/plain": [
       "tensor([ 0.0000,  2.5000,  5.0000,  7.5000, 10.0000])"
      ]
     },
     "execution_count": 14,
     "metadata": {},
     "output_type": "execute_result"
    }
   ],
   "source": [
    "torch.linspace(0, 10, steps=5)"
   ]
  },
  {
   "cell_type": "markdown",
   "id": "89e0345a",
   "metadata": {},
   "source": [
    "点积运算（向量与向量）"
   ]
  },
  {
   "cell_type": "code",
   "execution_count": 15,
   "id": "76eeab6a",
   "metadata": {},
   "outputs": [
    {
     "data": {
      "text/plain": [
       "tensor(32.)"
      ]
     },
     "execution_count": 15,
     "metadata": {},
     "output_type": "execute_result"
    }
   ],
   "source": [
    "a = torch.Tensor([1, 2, 3])\n",
    "b = torch.Tensor([4, 5, 6])\n",
    "torch.dot(a, b)"
   ]
  },
  {
   "cell_type": "markdown",
   "id": "0d379c13",
   "metadata": {},
   "source": [
    "矩阵与向量的乘法"
   ]
  },
  {
   "cell_type": "code",
   "execution_count": 17,
   "id": "799fe36a",
   "metadata": {},
   "outputs": [
    {
     "data": {
      "text/plain": [
       "tensor([14., 20., 15.])"
      ]
     },
     "execution_count": 17,
     "metadata": {},
     "output_type": "execute_result"
    }
   ],
   "source": [
    "a = torch.Tensor([1, 2, 3])\n",
    "b = torch.Tensor([[1,2,3], [2, 3, 4], [4, 4, 1]])\n",
    "torch.mv(b, a)"
   ]
  },
  {
   "cell_type": "markdown",
   "id": "025a6c7e",
   "metadata": {},
   "source": [
    "两个矩阵的乘法"
   ]
  },
  {
   "cell_type": "code",
   "execution_count": 18,
   "id": "c0af92f8",
   "metadata": {},
   "outputs": [
    {
     "data": {
      "text/plain": [
       "tensor([[20., 26., 32.],\n",
       "        [29., 38., 47.],\n",
       "        [38., 50., 62.]])"
      ]
     },
     "execution_count": 18,
     "metadata": {},
     "output_type": "execute_result"
    }
   ],
   "source": [
    "a = torch.Tensor([[1,2,3], [2,3,4], [3,4,5]])\n",
    "b = torch.Tensor([[2,3,4], [3,4,5], [4,5,6]])\n",
    "torch.mm(a, b)"
   ]
  },
  {
   "cell_type": "code",
   "execution_count": 19,
   "id": "e91e8f0d",
   "metadata": {},
   "outputs": [
    {
     "data": {
      "text/plain": [
       "tensor([[ 2.,  3.,  4.],\n",
       "        [ 4.,  6.,  8.],\n",
       "        [ 6.,  9., 12.]])"
      ]
     },
     "execution_count": 19,
     "metadata": {},
     "output_type": "execute_result"
    }
   ],
   "source": [
    "a = torch.Tensor([1, 2, 3])\n",
    "b = torch.Tensor([2, 3, 4])\n",
    "torch.ger(a, b)"
   ]
  },
  {
   "cell_type": "markdown",
   "id": "3da9d78e",
   "metadata": {},
   "source": [
    "转置"
   ]
  },
  {
   "cell_type": "code",
   "execution_count": 24,
   "id": "850ac616",
   "metadata": {},
   "outputs": [
    {
     "data": {
      "text/plain": [
       "tensor([[0.5295, 0.9828, 0.5406],\n",
       "        [0.2363, 0.8571, 0.2585]])"
      ]
     },
     "execution_count": 24,
     "metadata": {},
     "output_type": "execute_result"
    }
   ],
   "source": [
    "a = torch.rand(2, 3)\n",
    "a"
   ]
  },
  {
   "cell_type": "code",
   "execution_count": 25,
   "id": "480cb5bd",
   "metadata": {},
   "outputs": [
    {
     "data": {
      "text/plain": [
       "tensor([[0.5295, 0.2363],\n",
       "        [0.9828, 0.8571],\n",
       "        [0.5406, 0.2585]])"
      ]
     },
     "execution_count": 25,
     "metadata": {},
     "output_type": "execute_result"
    }
   ],
   "source": [
    "torch.t(a)"
   ]
  },
  {
   "cell_type": "code",
   "execution_count": 26,
   "id": "8eb98318",
   "metadata": {},
   "outputs": [
    {
     "data": {
      "text/plain": [
       "tensor([[0.0136, 0.7229, 0.0135, 0.2074],\n",
       "        [0.1878, 0.9282, 0.8585, 0.5948],\n",
       "        [0.6392, 0.4713, 0.2584, 0.4072]])"
      ]
     },
     "execution_count": 26,
     "metadata": {},
     "output_type": "execute_result"
    }
   ],
   "source": [
    "a = torch.rand(3, 4)\n",
    "a"
   ]
  },
  {
   "cell_type": "code",
   "execution_count": 27,
   "id": "820bc535",
   "metadata": {},
   "outputs": [
    {
     "data": {
      "text/plain": [
       "tensor([[0.0136, 0.1878, 0.6392],\n",
       "        [0.7229, 0.9282, 0.4713],\n",
       "        [0.0135, 0.8585, 0.2584],\n",
       "        [0.2074, 0.5948, 0.4072]])"
      ]
     },
     "execution_count": 27,
     "metadata": {},
     "output_type": "execute_result"
    }
   ],
   "source": [
    "torch.t(a)"
   ]
  },
  {
   "cell_type": "code",
   "execution_count": null,
   "id": "4c14498f",
   "metadata": {},
   "outputs": [],
   "source": []
  }
 ],
 "metadata": {
  "kernelspec": {
   "display_name": ".venv",
   "language": "python",
   "name": "python3"
  },
  "language_info": {
   "codemirror_mode": {
    "name": "ipython",
    "version": 3
   },
   "file_extension": ".py",
   "mimetype": "text/x-python",
   "name": "python",
   "nbconvert_exporter": "python",
   "pygments_lexer": "ipython3",
   "version": "3.12.10"
  }
 },
 "nbformat": 4,
 "nbformat_minor": 5
}
