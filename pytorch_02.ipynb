{
 "cells": [
  {
   "cell_type": "markdown",
   "id": "574084ba",
   "metadata": {},
   "source": [
    "# Autograd自动微分"
   ]
  },
  {
   "cell_type": "code",
   "execution_count": null,
   "id": "a435a0ca",
   "metadata": {},
   "outputs": [],
   "source": []
  }
 ],
 "metadata": {
  "kernelspec": {
   "display_name": ".venv",
   "language": "python",
   "name": "python3"
  },
  "language_info": {
   "name": "python",
   "version": "3.12.10"
  }
 },
 "nbformat": 4,
 "nbformat_minor": 5
}
