{
 "cells": [
  {
   "cell_type": "markdown",
   "id": "af5cbaea",
   "metadata": {},
   "source": [
    "# 深度学习基础"
   ]
  },
  {
   "cell_type": "markdown",
   "id": "72fc4624",
   "metadata": {},
   "source": [
    "线性回归(LR)"
   ]
  },
  {
   "cell_type": "code",
   "execution_count": 1,
   "id": "a29cc0ff",
   "metadata": {},
   "outputs": [],
   "source": [
    "import matplotlib.pyplot as plt\n",
    "import torch\n",
    "import numpy as np"
   ]
  },
  {
   "cell_type": "code",
   "execution_count": 2,
   "id": "33edf789",
   "metadata": {},
   "outputs": [],
   "source": [
    "x = torch.Tensor([1.4, 5, 11, 16, 21])\n",
    "y = torch.Tensor([14.4, 29.6, 62, 85.5, 113.4])"
   ]
  },
  {
   "cell_type": "code",
   "execution_count": 3,
   "id": "3c78cddf",
   "metadata": {},
   "outputs": [
    {
     "data": {
      "image/png": "[encoded data removed]",
      "text/plain": [
       "<Figure size 640x480 with 1 Axes>"
      ]
     },
     "metadata": {},
     "output_type": "display_data"
    }
   ],
   "source": [
    "plt.scatter(x.numpy(), y.numpy())\n",
    "plt.xlabel('X values')\n",
    "plt.ylabel('Y values')\n",
    "plt.show()"
   ]
  },
  {
   "cell_type": "code",
   "execution_count": 4,
   "id": "3c180b0b",
   "metadata": {},
   "outputs": [
    {
     "data": {
      "text/plain": [
       "tensor([[  1.4000,  14.4000],\n",
       "        [  5.0000,  29.6000],\n",
       "        [ 11.0000,  62.0000],\n",
       "        [ 16.0000,  85.5000],\n",
       "        [ 21.0000, 113.4000]])"
      ]
     },
     "execution_count": 4,
     "metadata": {},
     "output_type": "execute_result"
    }
   ],
   "source": [
    "torch.stack([x, y], 1)"
   ]
  },
  {
   "cell_type": "code",
   "execution_count": 5,
   "id": "64033946",
   "metadata": {},
   "outputs": [
    {
     "data": {
      "text/plain": [
       "tensor([[  1.4000,   5.0000,  11.0000,  16.0000,  21.0000],\n",
       "        [ 14.4000,  29.6000,  62.0000,  85.5000, 113.4000]])"
      ]
     },
     "execution_count": 5,
     "metadata": {},
     "output_type": "execute_result"
    }
   ],
   "source": [
    "torch.stack([x, y], 0)"
   ]
  },
  {
   "cell_type": "code",
   "execution_count": 25,
   "id": "a64b8c8e",
   "metadata": {},
   "outputs": [],
   "source": [
    "a = torch.unsqueeze(torch.linspace(-3, 3, 1000), 1)"
   ]
  },
  {
   "cell_type": "code",
   "execution_count": 26,
   "id": "bfe1830f",
   "metadata": {},
   "outputs": [
    {
     "data": {
      "text/plain": [
       "torch.Size([1000, 1])"
      ]
     },
     "execution_count": 26,
     "metadata": {},
     "output_type": "execute_result"
    }
   ],
   "source": [
    "a.size()"
   ]
  },
  {
   "cell_type": "code",
   "execution_count": 27,
   "id": "4842c726",
   "metadata": {},
   "outputs": [],
   "source": [
    "b = torch.linspace(-3, 3, 1000)"
   ]
  },
  {
   "cell_type": "code",
   "execution_count": 28,
   "id": "988f1526",
   "metadata": {},
   "outputs": [
    {
     "data": {
      "text/plain": [
       "(torch.Size([1000, 1]), torch.Size([1000]))"
      ]
     },
     "execution_count": 28,
     "metadata": {},
     "output_type": "execute_result"
    }
   ],
   "source": [
    "a.size(), b.size()"
   ]
  },
  {
   "cell_type": "code",
   "execution_count": 44,
   "id": "48016980",
   "metadata": {},
   "outputs": [],
   "source": [
    "x = torch.linspace(-3, 2, 1000).unsqueeze(1)\n",
    "y = x + 1.2 * torch.rand(x.size())"
   ]
  },
  {
   "cell_type": "code",
   "execution_count": 48,
   "id": "8a3951aa",
   "metadata": {},
   "outputs": [
    {
     "data": {
      "text/plain": [
       "tensor(-2.1531)"
      ]
     },
     "execution_count": 48,
     "metadata": {},
     "output_type": "execute_result"
    }
   ],
   "source": []
  },
  {
   "cell_type": "code",
   "execution_count": 49,
   "id": "9080e6eb",
   "metadata": {},
   "outputs": [],
   "source": [
    "import torch.nn as nn\n"
   ]
  },
  {
   "cell_type": "code",
   "execution_count": 64,
   "id": "89931e39",
   "metadata": {},
   "outputs": [],
   "source": [
    "m = nn.Linear(20, 30)\n"
   ]
  },
  {
   "cell_type": "code",
   "execution_count": null,
   "id": "bb95fdf2",
   "metadata": {},
   "outputs": [],
   "source": [
    "input = torch.randn(128, 20)"
   ]
  },
  {
   "cell_type": "code",
   "execution_count": null,
   "id": "876946cb",
   "metadata": {},
   "outputs": [
    {
     "data": {
      "text/plain": [
       "torch.Size([20, 30])"
      ]
     },
     "execution_count": 70,
     "metadata": {},
     "output_type": "execute_result"
    }
   ],
   "source": [
    "m.weight.T."
   ]
  },
  {
   "cell_type": "code",
   "execution_count": 66,
   "id": "cfe14a76",
   "metadata": {},
   "outputs": [],
   "source": [
    "out = m(input)"
   ]
  },
  {
   "cell_type": "code",
   "execution_count": 58,
   "id": "c71813b3",
   "metadata": {},
   "outputs": [
    {
     "data": {
      "text/plain": [
       "tensor([[-0.2053,  0.0801, -0.3677,  ...,  0.7777, -0.2345,  0.5761],\n",
       "        [ 0.8586, -0.4834, -0.3166,  ..., -0.2044,  0.1605, -1.2330],\n",
       "        [-0.4848,  0.6457, -0.1503,  ..., -0.6008, -2.7694,  1.5043],\n",
       "        ...,\n",
       "        [-0.1714, -0.4097, -1.1379,  ...,  0.2553,  2.2547,  1.0282],\n",
       "        [ 0.3141,  0.5374, -0.4539,  ..., -0.0172, -1.1593,  0.6357],\n",
       "        [-1.3630, -0.2265,  1.4162,  ...,  0.6281, -0.8502, -0.0034]])"
      ]
     },
     "execution_count": 58,
     "metadata": {},
     "output_type": "execute_result"
    }
   ],
   "source": [
    "input"
   ]
  },
  {
   "cell_type": "code",
   "execution_count": 69,
   "id": "f004870f",
   "metadata": {},
   "outputs": [
    {
     "data": {
      "text/plain": [
       "(tensor([[-1.4108, -1.3495, -0.0174,  ..., -0.0287,  0.0578, -0.1865],\n",
       "         [-0.1351, -0.6616,  0.3380,  ..., -0.7265, -0.2576, -0.7134],\n",
       "         [ 0.7894, -0.0633, -0.6847,  ..., -0.5688, -0.0041, -0.2980],\n",
       "         ...,\n",
       "         [ 0.6412,  0.4356,  0.0407,  ..., -0.4899, -0.2362, -0.4199],\n",
       "         [ 0.1915,  0.2730, -0.1762,  ..., -0.6420, -0.2086, -0.5682],\n",
       "         [-0.4945,  0.1192, -0.1627,  ...,  0.1727, -0.2037, -0.4750]],\n",
       "        grad_fn=<AddmmBackward0>),\n",
       " torch.Size([128, 30]))"
      ]
     },
     "execution_count": 69,
     "metadata": {},
     "output_type": "execute_result"
    }
   ],
   "source": [
    "out, out.size()"
   ]
  },
  {
   "cell_type": "code",
   "execution_count": 71,
   "id": "6bbf8cbc",
   "metadata": {},
   "outputs": [],
   "source": [
    "a = torch.Tensor([[1,2],[3, 4]])\n",
    "b = torch.Tensor([[2, 3, 4],[3, 4, 5]])"
   ]
  },
  {
   "cell_type": "code",
   "execution_count": 72,
   "id": "fc4faadb",
   "metadata": {},
   "outputs": [
    {
     "data": {
      "text/plain": [
       "tensor([[1., 2.],\n",
       "        [3., 4.]])"
      ]
     },
     "execution_count": 72,
     "metadata": {},
     "output_type": "execute_result"
    }
   ],
   "source": [
    "a\n"
   ]
  },
  {
   "cell_type": "code",
   "execution_count": 73,
   "id": "f2308943",
   "metadata": {},
   "outputs": [
    {
     "data": {
      "text/plain": [
       "tensor([[2., 3., 4.],\n",
       "        [3., 4., 5.]])"
      ]
     },
     "execution_count": 73,
     "metadata": {},
     "output_type": "execute_result"
    }
   ],
   "source": [
    "b"
   ]
  },
  {
   "cell_type": "code",
   "execution_count": 74,
   "id": "6ce445f0",
   "metadata": {},
   "outputs": [
    {
     "data": {
      "text/plain": [
       "tensor([[ 8., 11., 14.],\n",
       "        [18., 25., 32.]])"
      ]
     },
     "execution_count": 74,
     "metadata": {},
     "output_type": "execute_result"
    }
   ],
   "source": [
    "torch.mm(a, b)"
   ]
  },
  {
   "cell_type": "code",
   "execution_count": 75,
   "id": "b01116c4",
   "metadata": {},
   "outputs": [
    {
     "data": {
      "text/plain": [
       "tensor([[ 1.5381, -0.8797,  0.6869,  ..., -0.2325,  1.1140,  1.3012],\n",
       "        [ 1.2329,  1.3085,  0.5337,  ...,  1.1476, -0.4967, -1.7086],\n",
       "        [-0.9581, -0.0510, -0.3271,  ...,  1.4327, -0.4341, -0.2338],\n",
       "        ...,\n",
       "        [ 0.7599,  0.5194, -1.4222,  ...,  1.2996, -1.0522,  2.0089],\n",
       "        [ 0.0536,  0.6951,  0.2597,  ...,  0.4481,  1.3622,  0.1006],\n",
       "        [ 0.8019, -0.0197, -0.1691,  ...,  2.2197, -0.3197, -0.2902]])"
      ]
     },
     "execution_count": 75,
     "metadata": {},
     "output_type": "execute_result"
    }
   ],
   "source": [
    "input"
   ]
  },
  {
   "cell_type": "code",
   "execution_count": null,
   "id": "fa4d5a51",
   "metadata": {},
   "outputs": [],
   "source": []
  }
 ],
 "metadata": {
  "kernelspec": {
   "display_name": ".venv",
   "language": "python",
   "name": "python3"
  },
  "language_info": {
   "codemirror_mode": {
    "name": "ipython",
    "version": 3
   },
   "file_extension": ".py",
   "mimetype": "text/x-python",
   "name": "python",
   "nbconvert_exporter": "python",
   "pygments_lexer": "ipython3",
   "version": "3.12.10"
  }
 },
 "nbformat": 4,
 "nbformat_minor": 5
}
