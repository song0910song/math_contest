{
 "cells": [
  {
   "cell_type": "code",
   "execution_count": 1,
   "id": "4299554b",
   "metadata": {},
   "outputs": [],
   "source": [
    "import numpy as np\n",
    "import torch\n",
    "from torch import nn, optim\n",
    "import matplotlib.pyplot as plt\n",
    "from PIL import Image\n",
    "%matplotlib inline"
   ]
  },
  {
   "cell_type": "code",
   "execution_count": 2,
   "id": "944d1e48",
   "metadata": {},
   "outputs": [],
   "source": [
    "img = Image.open(r'E:\\cv_learn\\img\\1.png').convert('L')\n",
    "img_arr = np.array(img)\n",
    "img_tensor = torch.tensor(img_arr, dtype=torch.float32)"
   ]
  },
  {
   "cell_type": "code",
   "execution_count": 22,
   "id": "b4853b8b",
   "metadata": {},
   "outputs": [],
   "source": [
    "target = (img_tensor < 128).float()\n",
    "target1 = target.unsqueeze(1)"
   ]
  },
  {
   "cell_type": "code",
   "execution_count": 24,
   "id": "74eb2ee4",
   "metadata": {},
   "outputs": [
    {
     "data": {
      "text/plain": [
       "tensor([[True],\n",
       "        [True],\n",
       "        [True],\n",
       "        ...,\n",
       "        [True],\n",
       "        [True],\n",
       "        [True]])"
      ]
     },
     "execution_count": 24,
     "metadata": {},
     "output_type": "execute_result"
    }
   ],
   "source": [
    "x = img_tensor.view(-1, 1)\n",
    "# target = target.view(-1, 1)\n",
    "# target.size()\n",
    "target = target.view(-1, 1)\n",
    "target1 = target1.view(-1, 1)\n",
    "target == target1"
   ]
  },
  {
   "cell_type": "code",
   "execution_count": null,
   "id": "dc2c8a5d",
   "metadata": {},
   "outputs": [],
   "source": []
  },
  {
   "cell_type": "code",
   "execution_count": null,
   "id": "b51b6f47",
   "metadata": {},
   "outputs": [],
   "source": []
  }
 ],
 "metadata": {
  "kernelspec": {
   "display_name": ".venv (3.12.10)",
   "language": "python",
   "name": "python3"
  },
  "language_info": {
   "codemirror_mode": {
    "name": "ipython",
    "version": 3
   },
   "file_extension": ".py",
   "mimetype": "text/x-python",
   "name": "python",
   "nbconvert_exporter": "python",
   "pygments_lexer": "ipython3",
   "version": "3.12.10"
  }
 },
 "nbformat": 4,
 "nbformat_minor": 5
}
