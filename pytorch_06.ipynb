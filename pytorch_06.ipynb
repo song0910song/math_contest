{
 "cells": [
  {
   "cell_type": "code",
   "execution_count": 1,
   "id": "6be06038",
   "metadata": {},
   "outputs": [],
   "source": [
    "import torch\n",
    "from torch.nn import functional as F\n",
    "from torch import nn, optim\n",
    "import matplotlib.pyplot as plt"
   ]
  },
  {
   "cell_type": "code",
   "execution_count": 29,
   "id": "07833370",
   "metadata": {},
   "outputs": [],
   "source": [
    "x = torch.Tensor([[200.0, 17.0]])"
   ]
  },
  {
   "cell_type": "code",
   "execution_count": 30,
   "id": "9cdcfa99",
   "metadata": {},
   "outputs": [],
   "source": [
    "layer1 = nn.Linear(2, 3)"
   ]
  },
  {
   "cell_type": "code",
   "execution_count": 31,
   "id": "54b8fa0a",
   "metadata": {},
   "outputs": [],
   "source": [
    "a1 = torch.sigmoid(layer1(x))"
   ]
  },
  {
   "cell_type": "code",
   "execution_count": 36,
   "id": "9be97eb5",
   "metadata": {},
   "outputs": [
    {
     "data": {
      "text/plain": [
       "tensor([[1., 0., 1.]], grad_fn=<SigmoidBackward0>)"
      ]
     },
     "execution_count": 36,
     "metadata": {},
     "output_type": "execute_result"
    }
   ],
   "source": [
    "a1"
   ]
  },
  {
   "cell_type": "code",
   "execution_count": 37,
   "id": "2659750f",
   "metadata": {},
   "outputs": [],
   "source": [
    "layer2 = nn.Linear(3, 1)"
   ]
  },
  {
   "cell_type": "code",
   "execution_count": 38,
   "id": "7aa0c1c5",
   "metadata": {},
   "outputs": [],
   "source": [
    "a2 = torch.sigmoid(layer2(a1))"
   ]
  },
  {
   "cell_type": "code",
   "execution_count": 39,
   "id": "44da056e",
   "metadata": {},
   "outputs": [
    {
     "data": {
      "text/plain": [
       "tensor([[0.4187]], grad_fn=<SigmoidBackward0>)"
      ]
     },
     "execution_count": 39,
     "metadata": {},
     "output_type": "execute_result"
    }
   ],
   "source": [
    "a2"
   ]
  },
  {
   "cell_type": "code",
   "execution_count": 41,
   "id": "110dda5d",
   "metadata": {},
   "outputs": [
    {
     "data": {
      "text/plain": [
       "array([[0.41872075]], dtype=float32)"
      ]
     },
     "execution_count": 41,
     "metadata": {},
     "output_type": "execute_result"
    }
   ],
   "source": [
    "a2.data.numpy()"
   ]
  },
  {
   "cell_type": "code",
   "execution_count": null,
   "id": "1c7f118f",
   "metadata": {},
   "outputs": [],
   "source": []
  }
 ],
 "metadata": {
  "kernelspec": {
   "display_name": ".venv (3.12.10)",
   "language": "python",
   "name": "python3"
  },
  "language_info": {
   "codemirror_mode": {
    "name": "ipython",
    "version": 3
   },
   "file_extension": ".py",
   "mimetype": "text/x-python",
   "name": "python",
   "nbconvert_exporter": "python",
   "pygments_lexer": "ipython3",
   "version": "3.12.10"
  }
 },
 "nbformat": 4,
 "nbformat_minor": 5
}
